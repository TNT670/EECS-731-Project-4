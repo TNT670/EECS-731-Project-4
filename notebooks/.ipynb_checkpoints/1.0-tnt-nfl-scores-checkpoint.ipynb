{
 "cells": [
  {
   "cell_type": "markdown",
   "metadata": {},
   "source": [
    "Modeling scores using regression analysis is the objective for this project. The dataset used contains information about NFL games since 1920, including information about the teams that played and how many points each team scored in their games. Linear regression and polynomial regression were utilized here.\n",
    "\n",
    "The imports used for this project are as follows:"
   ]
  },
  {
   "cell_type": "code",
   "execution_count": 97,
   "metadata": {},
   "outputs": [],
   "source": [
    "import numpy as np\n",
    "import pandas as pd\n",
    "import matplotlib.pyplot as plt\n",
    "from sklearn.linear_model import LinearRegression\n",
    "from sklearn.preprocessing import PolynomialFeatures\n",
    "from sklearn.model_selection import train_test_split"
   ]
  },
  {
   "cell_type": "markdown",
   "metadata": {},
   "source": [
    "The first step is to load the CSV file into a panda data frame, done with the following statement. It is previewed to ensure that the correct data is being used."
   ]
  },
  {
   "cell_type": "code",
   "execution_count": 98,
   "metadata": {},
   "outputs": [
    {
     "data": {
      "text/html": [
       "<div>\n",
       "<style scoped>\n",
       "    .dataframe tbody tr th:only-of-type {\n",
       "        vertical-align: middle;\n",
       "    }\n",
       "\n",
       "    .dataframe tbody tr th {\n",
       "        vertical-align: top;\n",
       "    }\n",
       "\n",
       "    .dataframe thead th {\n",
       "        text-align: right;\n",
       "    }\n",
       "</style>\n",
       "<table border=\"1\" class=\"dataframe\">\n",
       "  <thead>\n",
       "    <tr style=\"text-align: right;\">\n",
       "      <th></th>\n",
       "      <th>date</th>\n",
       "      <th>season</th>\n",
       "      <th>neutral</th>\n",
       "      <th>playoff</th>\n",
       "      <th>team1</th>\n",
       "      <th>team2</th>\n",
       "      <th>elo1</th>\n",
       "      <th>elo2</th>\n",
       "      <th>elo_prob1</th>\n",
       "      <th>score1</th>\n",
       "      <th>score2</th>\n",
       "      <th>result1</th>\n",
       "    </tr>\n",
       "  </thead>\n",
       "  <tbody>\n",
       "    <tr>\n",
       "      <th>0</th>\n",
       "      <td>1920-09-26</td>\n",
       "      <td>1920</td>\n",
       "      <td>0</td>\n",
       "      <td>0</td>\n",
       "      <td>RII</td>\n",
       "      <td>STP</td>\n",
       "      <td>1503.947</td>\n",
       "      <td>1300.000</td>\n",
       "      <td>0.824651</td>\n",
       "      <td>48</td>\n",
       "      <td>0</td>\n",
       "      <td>1.0</td>\n",
       "    </tr>\n",
       "    <tr>\n",
       "      <th>1</th>\n",
       "      <td>1920-10-03</td>\n",
       "      <td>1920</td>\n",
       "      <td>0</td>\n",
       "      <td>0</td>\n",
       "      <td>AKR</td>\n",
       "      <td>WHE</td>\n",
       "      <td>1503.420</td>\n",
       "      <td>1300.000</td>\n",
       "      <td>0.824212</td>\n",
       "      <td>43</td>\n",
       "      <td>0</td>\n",
       "      <td>1.0</td>\n",
       "    </tr>\n",
       "    <tr>\n",
       "      <th>2</th>\n",
       "      <td>1920-10-03</td>\n",
       "      <td>1920</td>\n",
       "      <td>0</td>\n",
       "      <td>0</td>\n",
       "      <td>RCH</td>\n",
       "      <td>ABU</td>\n",
       "      <td>1503.420</td>\n",
       "      <td>1300.000</td>\n",
       "      <td>0.824212</td>\n",
       "      <td>10</td>\n",
       "      <td>0</td>\n",
       "      <td>1.0</td>\n",
       "    </tr>\n",
       "    <tr>\n",
       "      <th>3</th>\n",
       "      <td>1920-10-03</td>\n",
       "      <td>1920</td>\n",
       "      <td>0</td>\n",
       "      <td>0</td>\n",
       "      <td>DAY</td>\n",
       "      <td>COL</td>\n",
       "      <td>1493.002</td>\n",
       "      <td>1504.908</td>\n",
       "      <td>0.575819</td>\n",
       "      <td>14</td>\n",
       "      <td>0</td>\n",
       "      <td>1.0</td>\n",
       "    </tr>\n",
       "    <tr>\n",
       "      <th>4</th>\n",
       "      <td>1920-10-03</td>\n",
       "      <td>1920</td>\n",
       "      <td>0</td>\n",
       "      <td>0</td>\n",
       "      <td>RII</td>\n",
       "      <td>MUN</td>\n",
       "      <td>1516.108</td>\n",
       "      <td>1478.004</td>\n",
       "      <td>0.644171</td>\n",
       "      <td>45</td>\n",
       "      <td>0</td>\n",
       "      <td>1.0</td>\n",
       "    </tr>\n",
       "  </tbody>\n",
       "</table>\n",
       "</div>"
      ],
      "text/plain": [
       "         date  season  neutral  playoff team1 team2      elo1      elo2  \\\n",
       "0  1920-09-26    1920        0        0   RII   STP  1503.947  1300.000   \n",
       "1  1920-10-03    1920        0        0   AKR   WHE  1503.420  1300.000   \n",
       "2  1920-10-03    1920        0        0   RCH   ABU  1503.420  1300.000   \n",
       "3  1920-10-03    1920        0        0   DAY   COL  1493.002  1504.908   \n",
       "4  1920-10-03    1920        0        0   RII   MUN  1516.108  1478.004   \n",
       "\n",
       "   elo_prob1  score1  score2  result1  \n",
       "0   0.824651      48       0      1.0  \n",
       "1   0.824212      43       0      1.0  \n",
       "2   0.824212      10       0      1.0  \n",
       "3   0.575819      14       0      1.0  \n",
       "4   0.644171      45       0      1.0  "
      ]
     },
     "execution_count": 98,
     "metadata": {},
     "output_type": "execute_result"
    }
   ],
   "source": [
    "df = pd.read_csv('https://raw.githubusercontent.com/fivethirtyeight/nfl-elo-game/master/data/nfl_games.csv')\n",
    "df.head()"
   ]
  },
  {
   "cell_type": "markdown",
   "metadata": {},
   "source": [
    "Next, the teams are extracted from the dataframe. This is necessary because the scores for the team in question are going to be stored for future use. A set is used to ensure that each team is present exactly once."
   ]
  },
  {
   "cell_type": "code",
   "execution_count": 99,
   "metadata": {},
   "outputs": [],
   "source": [
    "array = df.values\n",
    "teams = set(np.append(array[:, 4], array[:, 5]))"
   ]
  },
  {
   "cell_type": "markdown",
   "metadata": {},
   "source": [
    "The next step is to create a dictionary, with the keys being the teams and the values being their scores. Of course, this is not exactly space efficient, but this was a useful step when testing the models."
   ]
  },
  {
   "cell_type": "code",
   "execution_count": 134,
   "metadata": {
    "scrolled": true
   },
   "outputs": [
    {
     "name": "stdout",
     "output_type": "stream",
     "text": [
      "[20, 25, 28, 0, 14, 16, 7, 20, 3, 22, 6, 20, 10, 10, 0, 7, 7, 6, 9, 33, 3, 20, 22, 0, 18, 26, 20, 7, 14, 3, 0, 29, 10, 6, 33, 3, 12, 3, 3, 31, 28, 7, 6, 19, 14, 21, 0, 14, 14, 7, 24, 17, 34, 10, 10, 19, 0, 35, 6, 12, 14, 14, 0, 30, 14, 0, 0, 9, 27, 13, 6, 0, 27, 27, 13, 34, 28, 0, 0, 0, 27, 14, 0, 7, 6, 0, 0, 9, 0, 0, 13, 20, 12, 13, 6, 14, 21, 21, 6, 26, 12, 2, 9, 18, 7, 6, 0, 27, 13, 20, 34, 6, 9, 9, 7, 12, 10, 14, 17, 7, 23, 41, 27, 27, 17, 10, 24, 14, 0, 20, 7, 7, 26, 12, 10, 16, 28, 14, 29, 15, 21, 16, 21, 7, 17, 31, 30, 44, 0, 30, 27, 7, 16, 14, 47, 31, 53, 49, 34, 14, 31, 35, 33, 37, 41, 26, 45, 16, 38, 47, 20, 48, 33, 35, 21, 41, 34, 21, 28, 21, 21, 7, 21, 28, 28, 28, 28, 21, 10, 24, 42, 28, 40, 33, 20, 49, 14, 21, 42, 28, 35, 7, 48, 21, 16, 38, 24, 27, 30, 52, 27, 28, 28, 17, 24, 6, 24, 13, 28, 24, 17, 14, 38, 16, 28, 24, 24, 10, 14, 28, 21, 16, 24, 17, 28, 24, 28, 10, 24, 28, 19, 38, 52, 24, 21, 17, 31, 58, 38, 30, 10, 38, 17, 34, 21, 14, 3, 13, 28, 31, 24, 0, 30, 21, 21, 7, 28, 14, 27, 25, 34, 27, 20, 28, 17, 13, 24, 31, 28, 28, 15, 17, 52, 27, 35, 7, 31, 24, 30, 3, 10, 16, 6, 26, 17, 27, 24, 14, 38, 0, 10, 24, 23, 3, 14, 31, 38, 31, 21, 34, 61, 17, 27, 0, 17, 10, 30, 23, 41, 3, 14, 17, 34, 30, 13, 10, 28, 10, 26, 27, 13, 3, 27, 0, 7, 38, 21, 24, 3, 3, 20, 0, 7, 10, 16, 31, 35, 17, 35, 23, 14, 16, 3, 10, 21, 13, 24, 13, 17, 21, 3, 17, 13, 10, 35, 7, 0, 0, 17, 21, 24, 10, 0, 0, 16, 7, 15, 9, 13, 27, 25, 20, 10, 0, 33, 14, 27, 24, 14, 30, 24, 24, 10, 28, 10, 21, 17, 20, 19, 17, 29, 13, 14, 14, 6, 26, 13, 7, 35, 27, 23, 42, 22, 14, 23, 24, 35, 6, 61, 14, 9, 28, 7, 7, 20, 7, 10, 35, 0, 20, 26, 7, 17, 17, 31, 14, 17, 17, 13, 23, 34, 27, 14, 20, 16, 17, 16, 14, 38, 20, 45, 23, 27, 24, 36, 17, 21, 24, 41, 13, 23, 13, 17, 12, 13, 48, 13, 34, 20, 27, 17, 31, 30, 23, 21, 17, 34, 7, 24, 17, 10, 28, 16, 13, 20, 3, 17, 38, 27, 28, 20, 31, 17, 28, 17, 19, 27, 38, 30, 23, 27, 10, 16, 10, 20, 19, 7, 20, 13, 27, 27, 13, 27, 14, 41, 31, 10, 28, 3, 30, 20, 47, 6, 12, 14, 30, 3, 14, 21, 14, 20, 17, 6, 20, 27, 3, 31, 24, 31, 35, 34, 17, 31, 20, 22, 14, 19, 6, 13, 31, 35, 27, 24, 7, 17, 23, 8, 15, 13, 20, 23, 28, 31, 13, 12, 17, 24, 13, 20, 13, 14, 16, 24, 19, 28, 6, 7, 14, 10, 16, 27, 13, 6, 24, 17, 20, 37, 27, 12, 13, 27, 33, 19, 27, 23, 21, 13, 30, 20, 20, 0, 23, 24, 24, 20, 21, 28, 13, 27, 16, 9, 10, 23, 10, 24, 5, 14, 38, 7, 28, 10, 17, 13, 19, 16, 21, 34, 37, 40, 41, 13, 23, 34, 7, 27, 39, 20, 10, 31, 7, 37, 16, 35, 33, 24, 24, 48, 27, 14, 23, 27, 20, 17, 48, 30, 21, 20, 17, 14, 36, 19, 20, 20, 14, 27, 31, 7, 38, 35, 14, 30, 17, 34, 39, 24, 37, 31, 3, 14, 41, 23, 13, 23, 6, 28, 17, 13, 24, 31, 18, 27, 19, 23, 45, 28, 20, 17, 14, 21, 21, 28, 15, 14, 23, 23, 22, 20, 15, 20, 21, 20, 14, 17, 16, 20, 21, 26, 27, 21, 17, 23, 17, 17, 16, 24, 14, 20, 24, 48, 31, 24, 34, 25, 15, 24, 15, 7, 10, 29, 0, 20, 3, 6, 6, 10, 6, 10, 0, 0, 0, 3, 3, 0, 14, 21, 0, 10, 0, 0, 19, 6, 0, 0, 10, 6, 10, 16, 9, 3, 9, 7, 6, 7, 15, 12, 7, 19, 0, 7, 16, 14, 0, 0, 20, 32, 6, 12, 0, 12, 26, 0, 0, 0, 0, 7, 28, 7, 14, 10, 0, 3, 0, 22, 17, 24, 21, 21, 28, 20, 21, 10, 19, 13, 0, 23, 39, 20, 30, 2, 13, 30, 17, 27, 25, 26, 28, 7, 7, 14, 7, 20, 3, 13, 42, 2, 28, 7, 34, 24, 7, 16, 32, 35, 13, 23, 48, 41, 7, 21, 37, 14, 3, 73, 25, 48, 24, 49, 34, 44, 21, 35, 42, 21, 6, 21, 27, 56, 7, 35, 28, 7, 21, 28, 49, 21, 0, 10, 21, 28, 30, 34, 0, 27, 45, 24, 20, 7, 56, 28, 41, 34, 45, 28, 7, 21, 51, 42, 17, 17, 28, 24, 31, 28, 24, 32, 21, 27, 35, 10, 14, 31, 14, 28, 27, 21, 45, 24, 10, 7, 20, 23, 21, 9, 17, 24, 14, 27, 7, 23, 10, 38, 31, 28, 29, 17, 3, 34, 31, 24, 14, 21, 37, 38, 35, 17, 10, 7, 17, 10, 17, 16, 27, 14, 34, 38, 27, 35, 20, 10, 6, 26, 17, 26, 24, 31, 17, 7, 24, 7, 0, 0, 13, 21, 0, 31, 21, 14, 31, 30, 27, 0, 13, 3, 34, 57, 10, 28, 37, 52, 14, 17, 17, 12, 34, 0, 21, 20, 34, 27, 24, 28, 14, 45, 17, 35, 13, 3, 17, 13, 17, 6, 16, 14, 13, 10, 17, 0, 27, 28, 23, 0, 27, 7, 29, 13, 23, 17, 0, 17, 24, 7, 14, 31, 21, 24, 14, 23, 19, 20, 13, 24, 20, 3, 0, 28, 3, 3, 10, 17, 17, 27, 0, 10, 21, 21, 33, 16, 6, 31, 7, 13, 7, 7, 10, 6, 3, 17, 21, 0, 3, 7, 3, 3, 10, 7, 42, 19, 19, 12, 21, 10, 16, 34, 13, 16, 26, 0, 31, 10, 12, 7, 16, 19, 14, 7, 19, 14, 7, 14, 20, 16, 7, 27, 28, 0, 14, 15, 17, 6, 3, 7, 14, 21, 17, 23, 14, 17, 21, 17, 10, 16, 17, 9, 23, 10, 7, 14, 34, 23, 31, 19, 17, 7, 14, 27, 28, 19, 9, 9, 21, 44, 13, 34, 7, 30, 23, 0, 33, 27, 26, 16, 44, 24, 19, 37, 46, 25, 44, 20, 7, 23, 13, 16, 24, 35, 27, 26, 29, 30, 0, 6, 17, 24, 24, 7, 34, 27, 3, 27, 47, 35, 7, 13, 20, 14, 16, 0, 31, 10, 31, 26, 16, 13, 9, 21, 3, 21, 20, 10, 20, 34, 31, 6, 14, 6, 20, 30, 17, 14, 7, 3, 14, 7, 17, 3, 16, 19, 10, 10, 6, 22, 19, 16, 20, 17, 19, 27, 3, 35, 15, 25, 28, 30, 14, 28, 27, 7, 10, 3, 16, 24, 15, 12, 10, 17, 19, 24, 3, 3, 36, 22, 20, 13, 15, 12, 15, 7, 23, 3, 13, 22, 20, 17, 24, 3, 22, 14, 23, 17, 12, 27, 0, 27, 9, 3, 10, 0, 23, 6, 31, 24, 27, 13, 7, 20, 24, 14, 27, 20, 7, 16, 20, 9, 14, 7, 13, 13, 17, 10, 19, 21, 3, 21, 22, 7, 28, 19, 7, 3, 13, 7, 10, 19, 20, 13, 9, 24, 10, 26, 19, 24, 38, 10, 13, 42, 26, 17, 3, 27, 27, 19, 17, 23, 16, 13, 29, 17, 34, 20, 3, 27, 14, 24, 15, 25, 14, 10, 6, 10, 7, 37, 27, 3, 23, 22, 16, 24, 40, 3, 13, 13, 30, 20, 10, 21, 17, 10, 34, 41, 51, 7, 14, 28, 26, 40, 32, 41, 27, 21, 20, 38, 11, 28, 27, 24, 27, 23, 14, 17, 9, 0, 18, 34, 22, 37, 17, 17, 26, 14, 17, 23, 10, 10, 16, 17, 10, 7, 14, 27, 12, 3, 33, 10, 10, 23, 16, 28, 41, 23, 27, 14, 24]\n"
     ]
    }
   ],
   "source": [
    "scores = {}\n",
    "for team in teams:\n",
    "    arr = [x[9] for x in array if x[4] == team]\n",
    "    arr += [x[10] for x in array if x[5] == team]\n",
    "    scores[team] = arr\n",
    "print(scores['CHI'])"
   ]
  },
  {
   "cell_type": "markdown",
   "metadata": {},
   "source": [
    "A scatter plot of the scores over each of the games played gives a decent visualization of the data being worked with."
   ]
  },
  {
   "cell_type": "code",
   "execution_count": 135,
   "metadata": {},
   "outputs": [
    {
     "data": {
      "text/plain": [
       "<matplotlib.collections.PathCollection at 0x7ff577b36710>"
      ]
     },
     "execution_count": 135,
     "metadata": {},
     "output_type": "execute_result"
    },
    {
     "data": {
      "image/png": "[encoded data removed]",
      "text/plain": [
       "<Figure size 432x288 with 1 Axes>"
      ]
     },
     "metadata": {
      "needs_background": "light"
     },
     "output_type": "display_data"
    }
   ],
   "source": [
    "y = scores['CHI']\n",
    "X = [i for i in range(len(y))]\n",
    "plt.scatter(X, y)"
   ]
  },
  {
   "cell_type": "markdown",
   "metadata": {},
   "source": [
    "Next is to produce training data to train the Linear Regression model on. This is done by using sklearn's train_test_split feature, which will produce this data. The test_size parameter is set to .2, meaning that 80% of the scores available will be used for training the model."
   ]
  },
  {
   "cell_type": "code",
   "execution_count": 102,
   "metadata": {},
   "outputs": [],
   "source": [
    "X_train, X_test, y_train, y_test = train_test_split(X, y, test_size=.2, random_state=5)\n",
    "X_train = np.array(X_train).reshape(-1, 1)"
   ]
  },
  {
   "cell_type": "markdown",
   "metadata": {},
   "source": [
    "Then the model is created and trained, and a test value is given for the model to predict the result of. The test value used here is the number of scores plus one to predict the next score. Otherwise, to predict the nth score, a value of n can be used in place of len(y) + 1."
   ]
  },
  {
   "cell_type": "code",
   "execution_count": 136,
   "metadata": {},
   "outputs": [
    {
     "name": "stdout",
     "output_type": "stream",
     "text": [
      "[16.]\n"
     ]
    }
   ],
   "source": [
    "model = LinearRegression()\n",
    "model.fit(X_train, y_train)\n",
    "test = np.array([len(y) + 1])\n",
    "prediction = model.predict(test.reshape(-1, 1))\n",
    "print(np.round(prediction))"
   ]
  },
  {
   "cell_type": "markdown",
   "metadata": {},
   "source": [
    "This shows that using a linear regression model, 16 can be predicted for the Chicago Bears football team as the number of points that they will score in the next football game that they play."
   ]
  },
  {
   "cell_type": "markdown",
   "metadata": {},
   "source": [
    "But what about using other regression models, such as quadratic regression or, more generally, polynomial regression? While this cannot be directly modeled using scikit, a curve polynomial in nature to fit data on can be modeled instead. This utilizes scikit's PolynomialFeatures tool. To create a quadratic curve to fit the data on, a value of 2 is given as an argument to the degree parameter. A little bit of extra engineering is needed for this to work correctly."
   ]
  },
  {
   "cell_type": "code",
   "execution_count": 137,
   "metadata": {},
   "outputs": [
    {
     "name": "stdout",
     "output_type": "stream",
     "text": [
      "[14.]\n"
     ]
    }
   ],
   "source": [
    "d = 2\n",
    "pf = PolynomialFeatures(degree=d)\n",
    "X_poly = pf.fit_transform(X_train)\n",
    "test = np.array([len(y) + 1] * (d + 1)).reshape(1, -1)\n",
    "model = LinearRegression()\n",
    "model.fit(X_poly, y_train)\n",
    "prediction = model.predict(test)\n",
    "print(np.round(prediction))"
   ]
  },
  {
   "cell_type": "markdown",
   "metadata": {},
   "source": [
    "Using a quadratic curve to perform regression on indicates that the Chicago Bears might score around 14 points in their next football game."
   ]
  },
  {
   "cell_type": "markdown",
   "metadata": {},
   "source": [
    "As a test, a curve of degree 6 was attempted as well, with the corresponding result below. This is notably higher than the previous two and may reflect the nature of higher degree polynomial curves."
   ]
  },
  {
   "cell_type": "code",
   "execution_count": 138,
   "metadata": {},
   "outputs": [
    {
     "name": "stdout",
     "output_type": "stream",
     "text": [
      "[26.]\n"
     ]
    }
   ],
   "source": [
    "d = 6\n",
    "pf = PolynomialFeatures(degree=d)\n",
    "X_poly = pf.fit_transform(X_train)\n",
    "test = np.array([len(y) + 1] * (d + 1)).reshape(1, -1)\n",
    "model = LinearRegression()\n",
    "model.fit(X_poly, y_train)\n",
    "prediction = model.predict(test)\n",
    "print(np.round(prediction))"
   ]
  }
 ],
 "metadata": {
  "kernelspec": {
   "display_name": "Python 3",
   "language": "python",
   "name": "python3"
  },
  "language_info": {
   "codemirror_mode": {
    "name": "ipython",
    "version": 3
   },
   "file_extension": ".py",
   "mimetype": "text/x-python",
   "name": "python",
   "nbconvert_exporter": "python",
   "pygments_lexer": "ipython3",
   "version": "3.7.3"
  }
 },
 "nbformat": 4,
 "nbformat_minor": 4
}
